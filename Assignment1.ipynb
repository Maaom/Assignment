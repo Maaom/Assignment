{
 "cells": [
  {
   "cell_type": "code",
   "execution_count": null,
   "id": "5a9ff009-10da-4025-819e-af5572efaaf4",
   "metadata": {},
   "outputs": [],
   "source": [
    "Ans1 : Guido van Rossum  "
   ]
  },
  {
   "cell_type": "code",
   "execution_count": null,
   "id": "75e9bc2e-05ce-4c78-8838-f61cce972deb",
   "metadata": {},
   "outputs": [],
   "source": [
    "Ans2 :Python is an interpreted programming language,\n",
    "which supports object-oriented, structured, \n",
    "and functional programming "
   ]
  },
  {
   "cell_type": "code",
   "execution_count": null,
   "id": "98adb6f5-969e-4db4-b4dd-0c083d484f45",
   "metadata": {},
   "outputs": [],
   "source": [
    "3.\tPython is always case-sensitive when\n",
    "dealing with identifiers "
   ]
  },
  {
   "cell_type": "code",
   "execution_count": null,
   "id": "5a24850e-beb0-4192-9225-5e000597f847",
   "metadata": {},
   "outputs": [],
   "source": [
    "4.The correction extension for the\n",
    "python file is py  "
   ]
  },
  {
   "cell_type": "code",
   "execution_count": null,
   "id": "a1e7168e-b889-4bb7-aeec-5e8a1803832d",
   "metadata": {},
   "outputs": [],
   "source": [
    "5.5.\tPython code is both compiled and interpreted "
   ]
  },
  {
   "cell_type": "code",
   "execution_count": null,
   "id": "5de7eb2d-e519-491d-bfff-4ec1a1cdf955",
   "metadata": {},
   "outputs": [],
   "source": [
    "6. indentation"
   ]
  },
  {
   "cell_type": "code",
   "execution_count": null,
   "id": "4a1ea804-e9b8-4aee-a64e-727f9627d23b",
   "metadata": {},
   "outputs": [],
   "source": [
    "7.##"
   ]
  },
  {
   "cell_type": "code",
   "execution_count": null,
   "id": "233386b2-9738-43b4-8b7f-06056285e25e",
   "metadata": {},
   "outputs": [],
   "source": [
    "8.sys.version"
   ]
  },
  {
   "cell_type": "code",
   "execution_count": null,
   "id": "5749b23b-fd1c-44fd-8be2-ca68b4280b0b",
   "metadata": {},
   "outputs": [],
   "source": [
    "9. lambda"
   ]
  },
  {
   "cell_type": "code",
   "execution_count": null,
   "id": "081a6478-7730-4b76-8c79-0829c40dc5a3",
   "metadata": {},
   "outputs": [],
   "source": [
    "10. Preffered installer program"
   ]
  },
  {
   "cell_type": "code",
   "execution_count": null,
   "id": "af9ac359-bfb5-4351-ad22-e069b2d1f37d",
   "metadata": {},
   "outputs": [],
   "source": [
    "11.dir() , len() or abs()"
   ]
  },
  {
   "cell_type": "code",
   "execution_count": null,
   "id": "bd212271-54b3-4a48-937d-92e855a0629e",
   "metadata": {},
   "outputs": [],
   "source": [
    "12. It can be of any lenght "
   ]
  },
  {
   "cell_type": "code",
   "execution_count": null,
   "id": "1badca1d-c6c4-4350-a72d-f532c431d980",
   "metadata": {},
   "outputs": [],
   "source": [
    "13. easy to use, large community base"
   ]
  },
  {
   "cell_type": "code",
   "execution_count": null,
   "id": "981beaef-96fc-4b79-8534-5e55777c6458",
   "metadata": {},
   "outputs": [],
   "source": []
  }
 ],
 "metadata": {
  "kernelspec": {
   "display_name": "Python 3 (ipykernel)",
   "language": "python",
   "name": "python3"
  },
  "language_info": {
   "codemirror_mode": {
    "name": "ipython",
    "version": 3
   },
   "file_extension": ".py",
   "mimetype": "text/x-python",
   "name": "python",
   "nbconvert_exporter": "python",
   "pygments_lexer": "ipython3",
   "version": "3.10.8"
  }
 },
 "nbformat": 4,
 "nbformat_minor": 5
}
