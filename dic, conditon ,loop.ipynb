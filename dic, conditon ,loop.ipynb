{
 "cells": [
  {
   "cell_type": "code",
   "execution_count": 1,
   "id": "0a106f7a-d212-4053-a978-3b4bb7cdf4bc",
   "metadata": {},
   "outputs": [
    {
     "ename": "SyntaxError",
     "evalue": "invalid syntax (2571592156.py, line 1)",
     "output_type": "error",
     "traceback": [
      "\u001b[0;36m  Cell \u001b[0;32mIn[1], line 1\u001b[0;36m\u001b[0m\n\u001b[0;31m    d{}\u001b[0m\n\u001b[0m     ^\u001b[0m\n\u001b[0;31mSyntaxError\u001b[0m\u001b[0;31m:\u001b[0m invalid syntax\n"
     ]
    }
   ],
   "source": [
    "d{}"
   ]
  },
  {
   "cell_type": "code",
   "execution_count": 2,
   "id": "eae4cbcc-23b1-4d8b-99fa-536ac229fa80",
   "metadata": {},
   "outputs": [],
   "source": [
    "d={}"
   ]
  },
  {
   "cell_type": "code",
   "execution_count": 3,
   "id": "4191faee-023d-4350-a03c-b79cb3969fe0",
   "metadata": {},
   "outputs": [
    {
     "data": {
      "text/plain": [
       "dict"
      ]
     },
     "execution_count": 3,
     "metadata": {},
     "output_type": "execute_result"
    }
   ],
   "source": [
    "type(d)"
   ]
  },
  {
   "cell_type": "code",
   "execution_count": 4,
   "id": "fdc4cec8-a319-40be-b606-12f496882458",
   "metadata": {},
   "outputs": [],
   "source": [
    "d1 = {'key' : \"osh\"}"
   ]
  },
  {
   "cell_type": "code",
   "execution_count": 5,
   "id": "f8c3eaf4-7e57-493b-9ae6-9a1b366922f3",
   "metadata": {},
   "outputs": [
    {
     "data": {
      "text/plain": [
       "dict"
      ]
     },
     "execution_count": 5,
     "metadata": {},
     "output_type": "execute_result"
    }
   ],
   "source": [
    "type(d1)"
   ]
  },
  {
   "cell_type": "code",
   "execution_count": 6,
   "id": "900df120-d2cb-4d6e-9af3-a1fa7a817c42",
   "metadata": {},
   "outputs": [
    {
     "data": {
      "text/plain": [
       "{'key': 'osh'}"
      ]
     },
     "execution_count": 6,
     "metadata": {},
     "output_type": "execute_result"
    }
   ],
   "source": [
    "d1"
   ]
  },
  {
   "cell_type": "code",
   "execution_count": 7,
   "id": "bdcfd27e-91d2-486c-9736-fee1e47404f6",
   "metadata": {},
   "outputs": [],
   "source": [
    "d2 = {'name' : 'osm' , \"email\" : \"ss@gmail.com\"}"
   ]
  },
  {
   "cell_type": "code",
   "execution_count": 8,
   "id": "3b439b8d-f55f-4afd-9b0c-9e5e58d16fbc",
   "metadata": {},
   "outputs": [
    {
     "data": {
      "text/plain": [
       "{'name': 'osm', 'email': 'ss@gmail.com'}"
      ]
     },
     "execution_count": 8,
     "metadata": {},
     "output_type": "execute_result"
    }
   ],
   "source": [
    "d2"
   ]
  },
  {
   "cell_type": "code",
   "execution_count": 4,
   "id": "629c2b6e-6498-40e5-862e-5c537eaed60b",
   "metadata": {},
   "outputs": [
    {
     "ename": "NameError",
     "evalue": "name 'a' is not defined",
     "output_type": "error",
     "traceback": [
      "\u001b[0;31m---------------------------------------------------------------------------\u001b[0m",
      "\u001b[0;31mNameError\u001b[0m                                 Traceback (most recent call last)",
      "Cell \u001b[0;32mIn[4], line 1\u001b[0m\n\u001b[0;32m----> 1\u001b[0m d3 \u001b[38;5;241m=\u001b[39m{\u001b[38;5;241m234\u001b[39m : \u001b[38;5;124m\"\u001b[39m\u001b[38;5;124mosm\u001b[39m\u001b[38;5;124m\"\u001b[39m, \u001b[38;5;28;01mTrue\u001b[39;00m: \u001b[38;5;241m23424\u001b[39m, \u001b[43ma\u001b[49m : \u001b[38;5;124m\"\u001b[39m\u001b[38;5;124m234\u001b[39m\u001b[38;5;124m\"\u001b[39m}\n",
      "\u001b[0;31mNameError\u001b[0m: name 'a' is not defined"
     ]
    }
   ],
   "source": [
    "d3 ={234 : \"osm\", True: 23424, a : \"234\"}"
   ]
  },
  {
   "cell_type": "code",
   "execution_count": 3,
   "id": "f13c4bc8-9c71-49a1-997f-62bb4f5c50dd",
   "metadata": {},
   "outputs": [
    {
     "data": {
      "text/plain": [
       "{234: 'osm', True: 23424}"
      ]
     },
     "execution_count": 3,
     "metadata": {},
     "output_type": "execute_result"
    }
   ],
   "source": [
    "d3"
   ]
  },
  {
   "cell_type": "code",
   "execution_count": 1,
   "id": "d3093bfd-2866-48bb-bced-4e58dff26f2c",
   "metadata": {},
   "outputs": [],
   "source": [
    "d4 = {\"@\"}"
   ]
  },
  {
   "cell_type": "code",
   "execution_count": 5,
   "id": "1f0422b0-6dd0-4e33-a167-53a31bd85781",
   "metadata": {},
   "outputs": [
    {
     "data": {
      "text/plain": [
       "{234: 'osm', True: 23424}"
      ]
     },
     "execution_count": 5,
     "metadata": {},
     "output_type": "execute_result"
    }
   ],
   "source": [
    "d3"
   ]
  },
  {
   "cell_type": "code",
   "execution_count": 6,
   "id": "46e2cd6b-a641-4e1f-a649-682df0b1feac",
   "metadata": {},
   "outputs": [
    {
     "ename": "NameError",
     "evalue": "name 'd' is not defined",
     "output_type": "error",
     "traceback": [
      "\u001b[0;31m---------------------------------------------------------------------------\u001b[0m",
      "\u001b[0;31mNameError\u001b[0m                                 Traceback (most recent call last)",
      "Cell \u001b[0;32mIn[6], line 1\u001b[0m\n\u001b[0;32m----> 1\u001b[0m \u001b[43md\u001b[49m(\u001b[38;5;241m3\u001b[39m)\n",
      "\u001b[0;31mNameError\u001b[0m: name 'd' is not defined"
     ]
    }
   ],
   "source": [
    "d(3)"
   ]
  },
  {
   "cell_type": "code",
   "execution_count": 10,
   "id": "372fc396-67e2-4a28-87a1-0c4009bcb0ec",
   "metadata": {},
   "outputs": [
    {
     "data": {
      "text/plain": [
       "23424"
      ]
     },
     "execution_count": 10,
     "metadata": {},
     "output_type": "execute_result"
    }
   ],
   "source": [
    "d3[True]"
   ]
  },
  {
   "cell_type": "code",
   "execution_count": 11,
   "id": "edd880ea-7c05-46e6-932f-64d38917d91c",
   "metadata": {},
   "outputs": [
    {
     "data": {
      "text/plain": [
       "23424"
      ]
     },
     "execution_count": 11,
     "metadata": {},
     "output_type": "execute_result"
    }
   ],
   "source": [
    "d3[1]"
   ]
  },
  {
   "cell_type": "code",
   "execution_count": 13,
   "id": "c09459f8-2084-428a-a094-e08d8f9f9319",
   "metadata": {},
   "outputs": [],
   "source": [
    "##key should be unique otherwise it ll over write to new one\n",
    "d4 = {'name' : 'osm' , 'mail id' : 'ss@gmail.com', 'name' : 'oshmaswar'}"
   ]
  },
  {
   "cell_type": "code",
   "execution_count": 14,
   "id": "c155696e-c0ff-414c-99f8-3b4adb61d380",
   "metadata": {},
   "outputs": [
    {
     "data": {
      "text/plain": [
       "'oshmaswar'"
      ]
     },
     "execution_count": 14,
     "metadata": {},
     "output_type": "execute_result"
    }
   ],
   "source": [
    "d4['name']"
   ]
  },
  {
   "cell_type": "code",
   "execution_count": 15,
   "id": "bcca8cb5-39c6-4289-9a06-820598dd5512",
   "metadata": {},
   "outputs": [],
   "source": [
    "d5= {'company' : 'pwskills' , 'courses' : [ 'web dev' , 'data science' , 'jave']}"
   ]
  },
  {
   "cell_type": "code",
   "execution_count": 16,
   "id": "8514ab64-8450-4d0a-bada-f9fb9ffe1599",
   "metadata": {},
   "outputs": [
    {
     "data": {
      "text/plain": [
       "{'company': 'pwskills', 'courses': ['web dev', 'data science', 'jave']}"
      ]
     },
     "execution_count": 16,
     "metadata": {},
     "output_type": "execute_result"
    }
   ],
   "source": [
    "d5"
   ]
  },
  {
   "cell_type": "code",
   "execution_count": 17,
   "id": "b0459436-7b0c-4022-9038-935db3900d22",
   "metadata": {},
   "outputs": [
    {
     "ename": "KeyError",
     "evalue": "'course'",
     "output_type": "error",
     "traceback": [
      "\u001b[0;31m---------------------------------------------------------------------------\u001b[0m",
      "\u001b[0;31mKeyError\u001b[0m                                  Traceback (most recent call last)",
      "Cell \u001b[0;32mIn[17], line 1\u001b[0m\n\u001b[0;32m----> 1\u001b[0m \u001b[43md5\u001b[49m\u001b[43m \u001b[49m\u001b[43m[\u001b[49m\u001b[38;5;124;43m'\u001b[39;49m\u001b[38;5;124;43mcourse\u001b[39;49m\u001b[38;5;124;43m'\u001b[39;49m\u001b[43m]\u001b[49m\n",
      "\u001b[0;31mKeyError\u001b[0m: 'course'"
     ]
    }
   ],
   "source": [
    "d5 ['course']"
   ]
  },
  {
   "cell_type": "code",
   "execution_count": 19,
   "id": "e302b4a4-c9b6-4e8e-8d38-835e9776a7af",
   "metadata": {},
   "outputs": [
    {
     "data": {
      "text/plain": [
       "'jave'"
      ]
     },
     "execution_count": 19,
     "metadata": {},
     "output_type": "execute_result"
    }
   ],
   "source": [
    "d5['courses'][2]"
   ]
  },
  {
   "cell_type": "code",
   "execution_count": 21,
   "id": "338f3bf3-8fe2-4c80-9173-dfd3bcbd5dff",
   "metadata": {},
   "outputs": [],
   "source": [
    "d6 = {'number' : [2,34,34,34], 'assignment' : (1,2,3,4,5,6), 'launc date' : {28,12,14}}"
   ]
  },
  {
   "cell_type": "code",
   "execution_count": 22,
   "id": "8746f69d-a443-49b8-a130-2940cb5881c4",
   "metadata": {},
   "outputs": [
    {
     "data": {
      "text/plain": [
       "{'company': 'pwskills', 'courses': ['web dev', 'data science', 'jave']}"
      ]
     },
     "execution_count": 22,
     "metadata": {},
     "output_type": "execute_result"
    }
   ],
   "source": [
    "d5"
   ]
  },
  {
   "cell_type": "code",
   "execution_count": 23,
   "id": "5503826d-1634-425d-85e3-158449d431b4",
   "metadata": {},
   "outputs": [
    {
     "ename": "KeyError",
     "evalue": "'assignment'",
     "output_type": "error",
     "traceback": [
      "\u001b[0;31m---------------------------------------------------------------------------\u001b[0m",
      "\u001b[0;31mKeyError\u001b[0m                                  Traceback (most recent call last)",
      "Cell \u001b[0;32mIn[23], line 1\u001b[0m\n\u001b[0;32m----> 1\u001b[0m \u001b[43md5\u001b[49m\u001b[43m \u001b[49m\u001b[43m[\u001b[49m\u001b[38;5;124;43m'\u001b[39;49m\u001b[38;5;124;43massignment\u001b[39;49m\u001b[38;5;124;43m'\u001b[39;49m\u001b[43m]\u001b[49m\n",
      "\u001b[0;31mKeyError\u001b[0m: 'assignment'"
     ]
    }
   ],
   "source": [
    "d5 ['assignment']"
   ]
  },
  {
   "cell_type": "code",
   "execution_count": 25,
   "id": "cf781a6d-0cc0-45e4-a1dc-fb7a546664b5",
   "metadata": {},
   "outputs": [
    {
     "data": {
      "text/plain": [
       "(1, 2, 3, 4, 5, 6)"
      ]
     },
     "execution_count": 25,
     "metadata": {},
     "output_type": "execute_result"
    }
   ],
   "source": [
    "d6['assignment']"
   ]
  },
  {
   "cell_type": "code",
   "execution_count": 30,
   "id": "630451dd-ab55-4cc3-a617-b10493daa840",
   "metadata": {},
   "outputs": [],
   "source": [
    "d6['number'] = [1,2,3,4,5,6,7]"
   ]
  },
  {
   "cell_type": "code",
   "execution_count": 27,
   "id": "0badf94e-8392-46ff-9ec6-f9df6e228cd6",
   "metadata": {},
   "outputs": [
    {
     "data": {
      "text/plain": [
       "{'number': [2, 34, 34, 34],\n",
       " 'assignment': (1, 2, 3, 4, 5, 6),\n",
       " 'launc date': {12, 14, 28},\n",
       " 'mentor': ['sudhanusu', 'krish', 'anurag', 'hyder']}"
      ]
     },
     "execution_count": 27,
     "metadata": {},
     "output_type": "execute_result"
    }
   ],
   "source": [
    "d6"
   ]
  },
  {
   "cell_type": "code",
   "execution_count": 29,
   "id": "23bcfe1e-24e0-40e1-99a0-e83711a6aa22",
   "metadata": {},
   "outputs": [
    {
     "data": {
      "text/plain": [
       "{'number': ['sudhanusu', 'krish', 'anurag', 'hyder'],\n",
       " 'assignment': (1, 2, 3, 4, 5, 6),\n",
       " 'launc date': {12, 14, 28},\n",
       " 'mentor': ['sudhanusu', 'krish', 'anurag', 'hyder']}"
      ]
     },
     "execution_count": 29,
     "metadata": {},
     "output_type": "execute_result"
    }
   ],
   "source": [
    "d6\n"
   ]
  },
  {
   "cell_type": "code",
   "execution_count": 31,
   "id": "cb029c1a-b89f-4ecd-aa54-4c82a3cfca80",
   "metadata": {},
   "outputs": [
    {
     "data": {
      "text/plain": [
       "{'number': [1, 2, 3, 4, 5, 6, 7],\n",
       " 'assignment': (1, 2, 3, 4, 5, 6),\n",
       " 'launc date': {12, 14, 28},\n",
       " 'mentor': ['sudhanusu', 'krish', 'anurag', 'hyder']}"
      ]
     },
     "execution_count": 31,
     "metadata": {},
     "output_type": "execute_result"
    }
   ],
   "source": [
    "d6"
   ]
  },
  {
   "cell_type": "code",
   "execution_count": 32,
   "id": "d3d57f0f-5a4c-4ad2-81f1-9cf5ac38fd69",
   "metadata": {},
   "outputs": [
    {
     "data": {
      "text/plain": [
       "{'company': 'pwskills', 'courses': ['web dev', 'data science', 'jave']}"
      ]
     },
     "execution_count": 32,
     "metadata": {},
     "output_type": "execute_result"
    }
   ],
   "source": [
    "d5 "
   ]
  },
  {
   "cell_type": "code",
   "execution_count": 33,
   "id": "73d060f9-3fb4-410e-98bc-3188d452dafe",
   "metadata": {},
   "outputs": [
    {
     "data": {
      "text/plain": [
       "{'number': [1, 2, 3, 4, 5, 6, 7],\n",
       " 'assignment': (1, 2, 3, 4, 5, 6),\n",
       " 'launc date': {12, 14, 28},\n",
       " 'mentor': ['sudhanusu', 'krish', 'anurag', 'hyder']}"
      ]
     },
     "execution_count": 33,
     "metadata": {},
     "output_type": "execute_result"
    }
   ],
   "source": [
    "d6"
   ]
  },
  {
   "cell_type": "code",
   "execution_count": 35,
   "id": "94fba6cf-845b-4d3e-883b-1839192aa728",
   "metadata": {},
   "outputs": [],
   "source": [
    "del d6['number']"
   ]
  },
  {
   "cell_type": "code",
   "execution_count": 36,
   "id": "a6f2f5eb-9cef-4756-b909-3e584ae721fe",
   "metadata": {},
   "outputs": [
    {
     "data": {
      "text/plain": [
       "{'assignment': (1, 2, 3, 4, 5, 6),\n",
       " 'launc date': {12, 14, 28},\n",
       " 'mentor': ['sudhanusu', 'krish', 'anurag', 'hyder']}"
      ]
     },
     "execution_count": 36,
     "metadata": {},
     "output_type": "execute_result"
    }
   ],
   "source": [
    "d6"
   ]
  },
  {
   "cell_type": "code",
   "execution_count": 37,
   "id": "b3cdff16-bbb6-47ab-b9a7-9c1514a96548",
   "metadata": {},
   "outputs": [
    {
     "data": {
      "text/plain": [
       "dict_keys(['assignment', 'launc date', 'mentor'])"
      ]
     },
     "execution_count": 37,
     "metadata": {},
     "output_type": "execute_result"
    }
   ],
   "source": [
    "d6.keys()"
   ]
  },
  {
   "cell_type": "code",
   "execution_count": 38,
   "id": "38a79f98-ba14-47fd-9df1-3ca91ab348ae",
   "metadata": {},
   "outputs": [
    {
     "data": {
      "text/plain": [
       "dict_values([(1, 2, 3, 4, 5, 6), {28, 12, 14}, ['sudhanusu', 'krish', 'anurag', 'hyder']])"
      ]
     },
     "execution_count": 38,
     "metadata": {},
     "output_type": "execute_result"
    }
   ],
   "source": [
    "d6.values()"
   ]
  },
  {
   "cell_type": "code",
   "execution_count": 39,
   "id": "a226b635-6d0b-42a1-b3d4-4c1b41bdf1ee",
   "metadata": {},
   "outputs": [
    {
     "ename": "AttributeError",
     "evalue": "'dict' object has no attribute 'keyvalues'",
     "output_type": "error",
     "traceback": [
      "\u001b[0;31m---------------------------------------------------------------------------\u001b[0m",
      "\u001b[0;31mAttributeError\u001b[0m                            Traceback (most recent call last)",
      "Cell \u001b[0;32mIn[39], line 1\u001b[0m\n\u001b[0;32m----> 1\u001b[0m \u001b[43md6\u001b[49m\u001b[38;5;241;43m.\u001b[39;49m\u001b[43mkeyvalues\u001b[49m()\n",
      "\u001b[0;31mAttributeError\u001b[0m: 'dict' object has no attribute 'keyvalues'"
     ]
    }
   ],
   "source": [
    "d6.keyvalues()"
   ]
  },
  {
   "cell_type": "code",
   "execution_count": 41,
   "id": "350d4366-950e-4ee0-a431-254956478231",
   "metadata": {},
   "outputs": [
    {
     "data": {
      "text/plain": [
       "[('assignment', (1, 2, 3, 4, 5, 6)),\n",
       " ('launc date', {12, 14, 28}),\n",
       " ('mentor', ['sudhanusu', 'krish', 'anurag', 'hyder'])]"
      ]
     },
     "execution_count": 41,
     "metadata": {},
     "output_type": "execute_result"
    }
   ],
   "source": [
    "list(d6.items())"
   ]
  },
  {
   "cell_type": "code",
   "execution_count": 43,
   "id": "6a5555f8-4ba0-4516-b722-28d0bc726584",
   "metadata": {},
   "outputs": [
    {
     "data": {
      "text/plain": [
       "(1, 2, 3, 4, 5, 6)"
      ]
     },
     "execution_count": 43,
     "metadata": {},
     "output_type": "execute_result"
    }
   ],
   "source": [
    "d6.pop('assignment')"
   ]
  },
  {
   "cell_type": "markdown",
   "id": "d7e6edf9-d6da-4661-8913-f64d5c85f263",
   "metadata": {},
   "source": [
    "d6"
   ]
  },
  {
   "cell_type": "code",
   "execution_count": 2,
   "id": "11444dc7-deca-4d5a-b3d7-4b7fa888ee40",
   "metadata": {},
   "outputs": [
    {
     "name": "stdin",
     "output_type": "stream",
     "text": [
      "enter 33\n"
     ]
    },
    {
     "name": "stdout",
     "output_type": "stream",
     "text": [
      " you will be part of A3 batch\n"
     ]
    }
   ],
   "source": [
    "marks = int(input ('enter'))\n",
    "if marks >= 80 :\n",
    "    print (\"you will be a part of A0 batch\")\n",
    "elif marks>= 60 and marks < 80 :\n",
    "    print ('you will be a part of A1 batch')\n",
    "elif marks >=40 and marks < 60:\n",
    "    print ('you will be a part of A2 batch')\n",
    "else :\n",
    "    print (' you will be part of A3 batch')"
   ]
  },
  {
   "cell_type": "code",
   "execution_count": 10,
   "id": "dbb9a6ed-652f-4d5a-ba67-9ebcabbbfe8b",
   "metadata": {},
   "outputs": [
    {
     "name": "stdin",
     "output_type": "stream",
     "text": [
      "enter data 500\n"
     ]
    },
    {
     "name": "stdout",
     "output_type": "stream",
     "text": [
      "its ok\n"
     ]
    }
   ],
   "source": [
    "price = int ( input ('enter data'))\n",
    "if price > 1000:\n",
    "             print (' I will not purchase')\n",
    "if price> 5000:\n",
    "    print(' this is too much')\n",
    "elif price < 2000:\n",
    "             print('its ok')\n",
    "elif price < 1000 :\n",
    "    print('not interested')\n",
    "        "
   ]
  },
  {
   "cell_type": "code",
   "execution_count": 11,
   "id": "de473443-88c0-46ce-b2d6-95462267b447",
   "metadata": {},
   "outputs": [],
   "source": [
    "l = [1,2,3,4,5,6,7,8]"
   ]
  },
  {
   "cell_type": "code",
   "execution_count": 12,
   "id": "81dcdce9-95b6-4167-b893-418c2cd06362",
   "metadata": {},
   "outputs": [
    {
     "ename": "AttributeError",
     "evalue": "'list' object has no attribute 'loop'",
     "output_type": "error",
     "traceback": [
      "\u001b[0;31m---------------------------------------------------------------------------\u001b[0m",
      "\u001b[0;31mAttributeError\u001b[0m                            Traceback (most recent call last)",
      "Cell \u001b[0;32mIn[12], line 1\u001b[0m\n\u001b[0;32m----> 1\u001b[0m \u001b[43ml\u001b[49m\u001b[38;5;241;43m.\u001b[39;49m\u001b[43mloop\u001b[49m()\n",
      "\u001b[0;31mAttributeError\u001b[0m: 'list' object has no attribute 'loop'"
     ]
    }
   ],
   "source": [
    "l.loop()"
   ]
  },
  {
   "cell_type": "code",
   "execution_count": 13,
   "id": "78b36814-11f1-4c38-b9c5-1ef9e323edf0",
   "metadata": {},
   "outputs": [
    {
     "data": {
      "text/plain": [
       "2"
      ]
     },
     "execution_count": 13,
     "metadata": {},
     "output_type": "execute_result"
    }
   ],
   "source": [
    "l[0] +1"
   ]
  },
  {
   "cell_type": "code",
   "execution_count": 14,
   "id": "30df818d-a98d-4224-998a-b0a65a99bd19",
   "metadata": {},
   "outputs": [
    {
     "ename": "NameError",
     "evalue": "name 'l1' is not defined",
     "output_type": "error",
     "traceback": [
      "\u001b[0;31m---------------------------------------------------------------------------\u001b[0m",
      "\u001b[0;31mNameError\u001b[0m                                 Traceback (most recent call last)",
      "Cell \u001b[0;32mIn[14], line 1\u001b[0m\n\u001b[0;32m----> 1\u001b[0m \u001b[43ml1\u001b[49m\u001b[38;5;241m.\u001b[39mappend(l[\u001b[38;5;241m0\u001b[39m] \u001b[38;5;241m+\u001b[39m \u001b[38;5;241m1\u001b[39m)\n",
      "\u001b[0;31mNameError\u001b[0m: name 'l1' is not defined"
     ]
    }
   ],
   "source": [
    "l1.append(l[0] + 1)"
   ]
  },
  {
   "cell_type": "code",
   "execution_count": 15,
   "id": "7bc07859-8ec1-4def-81f9-b95f6128057a",
   "metadata": {},
   "outputs": [],
   "source": [
    "l1 = []"
   ]
  },
  {
   "cell_type": "code",
   "execution_count": 16,
   "id": "f4877b81-c12b-4136-804f-304ad3ca6fc8",
   "metadata": {},
   "outputs": [],
   "source": [
    "l1.append(l[0] +1 )"
   ]
  },
  {
   "cell_type": "code",
   "execution_count": 17,
   "id": "edc982b6-0262-4839-ad28-a7df86932d41",
   "metadata": {},
   "outputs": [
    {
     "data": {
      "text/plain": [
       "[2]"
      ]
     },
     "execution_count": 17,
     "metadata": {},
     "output_type": "execute_result"
    }
   ],
   "source": [
    "l1"
   ]
  },
  {
   "cell_type": "code",
   "execution_count": 26,
   "id": "706b3d8d-cd94-476f-801f-17c8466f3f54",
   "metadata": {},
   "outputs": [
    {
     "name": "stdout",
     "output_type": "stream",
     "text": [
      "2\n"
     ]
    },
    {
     "ename": "TypeError",
     "evalue": "'int' object is not iterable",
     "output_type": "error",
     "traceback": [
      "\u001b[0;31m---------------------------------------------------------------------------\u001b[0m",
      "\u001b[0;31mTypeError\u001b[0m                                 Traceback (most recent call last)",
      "Cell \u001b[0;32mIn[26], line 4\u001b[0m\n\u001b[1;32m      2\u001b[0m \u001b[38;5;28;01mfor\u001b[39;00m i \u001b[38;5;129;01min\u001b[39;00m l:\n\u001b[1;32m      3\u001b[0m     \u001b[38;5;28mprint\u001b[39m(i\u001b[38;5;241m+\u001b[39m\u001b[38;5;241m1\u001b[39m)\n\u001b[0;32m----> 4\u001b[0m     \u001b[43ml1\u001b[49m\u001b[38;5;241;43m.\u001b[39;49m\u001b[43mextend\u001b[49m\u001b[43m(\u001b[49m\u001b[43mi\u001b[49m\u001b[38;5;241;43m+\u001b[39;49m\u001b[38;5;241;43m1\u001b[39;49m\u001b[43m)\u001b[49m\n",
      "\u001b[0;31mTypeError\u001b[0m: 'int' object is not iterable"
     ]
    }
   ],
   "source": [
    "l1 = []\n",
    "for i in l:\n",
    "    print(i+1)\n",
    "    l1.extend(i+1)"
   ]
  },
  {
   "cell_type": "code",
   "execution_count": 23,
   "id": "0cfe52b3-d86c-4b15-be4f-5b8dbaeab7d9",
   "metadata": {},
   "outputs": [
    {
     "data": {
      "text/plain": [
       "[2, 3, 4, 5, 6, 7, 8, 9]"
      ]
     },
     "execution_count": 23,
     "metadata": {},
     "output_type": "execute_result"
    }
   ],
   "source": [
    "l1"
   ]
  },
  {
   "cell_type": "code",
   "execution_count": 27,
   "id": "fac02055-f7f1-4b64-9cd5-46492bd203a9",
   "metadata": {},
   "outputs": [],
   "source": [
    "l = ['sudh' ,' kumar' , 'pwskils' , 'course']"
   ]
  },
  {
   "cell_type": "code",
   "execution_count": 29,
   "id": "5be8a22f-f264-46a5-856f-3bbd611b1b73",
   "metadata": {},
   "outputs": [
    {
     "data": {
      "text/plain": [
       "'sudh'"
      ]
     },
     "execution_count": 29,
     "metadata": {},
     "output_type": "execute_result"
    }
   ],
   "source": [
    "l[0]"
   ]
  },
  {
   "cell_type": "code",
   "execution_count": 30,
   "id": "50c21da4-8317-434c-846e-5e1c3c66ed7d",
   "metadata": {},
   "outputs": [
    {
     "ename": "AttributeError",
     "evalue": "'str' object has no attribute 'uppercase'",
     "output_type": "error",
     "traceback": [
      "\u001b[0;31m---------------------------------------------------------------------------\u001b[0m",
      "\u001b[0;31mAttributeError\u001b[0m                            Traceback (most recent call last)",
      "Cell \u001b[0;32mIn[30], line 1\u001b[0m\n\u001b[0;32m----> 1\u001b[0m \u001b[43ml\u001b[49m\u001b[43m[\u001b[49m\u001b[38;5;241;43m0\u001b[39;49m\u001b[43m]\u001b[49m\u001b[38;5;241;43m.\u001b[39;49m\u001b[43muppercase\u001b[49m\n",
      "\u001b[0;31mAttributeError\u001b[0m: 'str' object has no attribute 'uppercase'"
     ]
    }
   ],
   "source": [
    "l[0].uppercase"
   ]
  },
  {
   "cell_type": "code",
   "execution_count": 33,
   "id": "1e82d0ef-b0ea-46a3-938e-4f1543c54512",
   "metadata": {},
   "outputs": [
    {
     "name": "stdout",
     "output_type": "stream",
     "text": [
      "sudh\n",
      " kumar\n",
      "pwskils\n",
      "course\n"
     ]
    }
   ],
   "source": [
    "l1 =[]\n",
    "\n",
    "for i in l :\n",
    "    print (i)\n",
    "l1. append(i.upper())"
   ]
  },
  {
   "cell_type": "code",
   "execution_count": 34,
   "id": "fdf6dc78-825d-4037-af31-cfb8542c034f",
   "metadata": {},
   "outputs": [
    {
     "data": {
      "text/plain": [
       "['COURSE']"
      ]
     },
     "execution_count": 34,
     "metadata": {},
     "output_type": "execute_result"
    }
   ],
   "source": [
    "l1"
   ]
  },
  {
   "cell_type": "code",
   "execution_count": 36,
   "id": "c234162f-ec70-4a72-a3df-7a72eb6750bd",
   "metadata": {},
   "outputs": [],
   "source": [
    "l = [1,2,3,4,5,6, 'sudh' , 'kumar' , 324,34.456, 'abc']"
   ]
  },
  {
   "cell_type": "code",
   "execution_count": 37,
   "id": "4ca0a9af-d596-4c9e-b259-1260ea4c8e96",
   "metadata": {},
   "outputs": [],
   "source": [
    "l1_num= []\n",
    "l2_str = []\n",
    "for i in l :\n",
    "    if type(i)== int or type(i) == float :\n",
    "        l1_num.append(i)\n",
    "    else :\n",
    "        l2_str.append(i)"
   ]
  },
  {
   "cell_type": "code",
   "execution_count": 38,
   "id": "2da92958-472e-48db-9130-c3bee000c8c1",
   "metadata": {},
   "outputs": [
    {
     "data": {
      "text/plain": [
       "['COURSE']"
      ]
     },
     "execution_count": 38,
     "metadata": {},
     "output_type": "execute_result"
    }
   ],
   "source": [
    "l1"
   ]
  },
  {
   "cell_type": "code",
   "execution_count": 39,
   "id": "e1d493c7-ae3b-43e6-ab46-b3301491da6c",
   "metadata": {},
   "outputs": [
    {
     "data": {
      "text/plain": [
       "[1, 2, 3, 4, 5, 6, 324, 34.456]"
      ]
     },
     "execution_count": 39,
     "metadata": {},
     "output_type": "execute_result"
    }
   ],
   "source": [
    "l1_num"
   ]
  },
  {
   "cell_type": "code",
   "execution_count": 40,
   "id": "481fa641-6945-45af-80ef-acef89ef4441",
   "metadata": {},
   "outputs": [
    {
     "data": {
      "text/plain": [
       "['sudh', 'kumar', 'abc']"
      ]
     },
     "execution_count": 40,
     "metadata": {},
     "output_type": "execute_result"
    }
   ],
   "source": [
    "l2_str"
   ]
  },
  {
   "cell_type": "code",
   "execution_count": null,
   "id": "a128f71d-b463-40e7-85c6-d13e8dc158c4",
   "metadata": {},
   "outputs": [],
   "source": []
  }
 ],
 "metadata": {
  "kernelspec": {
   "display_name": "Python 3 (ipykernel)",
   "language": "python",
   "name": "python3"
  },
  "language_info": {
   "codemirror_mode": {
    "name": "ipython",
    "version": 3
   },
   "file_extension": ".py",
   "mimetype": "text/x-python",
   "name": "python",
   "nbconvert_exporter": "python",
   "pygments_lexer": "ipython3",
   "version": "3.10.8"
  }
 },
 "nbformat": 4,
 "nbformat_minor": 5
}
